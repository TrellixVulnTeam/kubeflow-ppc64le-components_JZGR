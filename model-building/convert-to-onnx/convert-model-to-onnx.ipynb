{
 "cells": [
  {
   "cell_type": "markdown",
   "id": "1f20b995-81e6-46ae-952a-f36267ee6cea",
   "metadata": {},
   "source": [
    "# Convert Model to ONNX"
   ]
  },
  {
   "cell_type": "code",
   "execution_count": 4,
   "id": "7854aa8d-bc07-4932-9451-405363adee8f",
   "metadata": {},
   "outputs": [],
   "source": [
    "import kfp\n",
    "import kfp.components as comp\n",
    "\n",
    "\n",
    "def convert_model_to_onnx(\n",
    "    model: comp.InputPath(str),\n",
    "    onnx_model: comp.OutputPath(str)\n",
    "):\n",
    "    \"\"\"Converts a model to ONNX format. Supported input formats: Keras.\"\"\"\n",
    "\n",
    "    import onnx\n",
    "    import sys\n",
    "    import tensorflow as tf\n",
    "    import tf2onnx\n",
    "    import logging\n",
    "\n",
    "    logging.basicConfig(\n",
    "        stream=sys.stdout,\n",
    "        level=logging.INFO,\n",
    "        format='%(levelname)s %(asctime)s: %(message)s'\n",
    "    )\n",
    "\n",
    "    logging.info(f\"Loading model from '{model}'...\")\n",
    "    keras_model = tf.keras.models.load_model(model)\n",
    "\n",
    "    logging.info(\"Converting model to ONNX...\")\n",
    "    converted_model, _ = tf2onnx.convert.from_keras(keras_model)\n",
    "\n",
    "    logging.info(f\"Saving ONNX model to '{onnx_model}'...\")\n",
    "    onnx.save_model(converted_model, onnx_model)\n",
    "\n",
    "    logging.info(\"Finished.\")\n",
    "\n",
    "\n",
    "convert_model_to_onnx_comp = kfp.components.create_component_from_func(\n",
    "    func=convert_model_to_onnx,\n",
    "    output_component_file='component.yaml',\n",
    "    base_image='quay.io/ibm/kubeflow-component-tensorflow-cpu:latest'\n",
    ")"
   ]
  },
  {
   "cell_type": "code",
   "execution_count": null,
   "id": "b8198a3f-2f20-4c0b-9586-9cde1b0419a3",
   "metadata": {},
   "outputs": [],
   "source": []
  }
 ],
 "metadata": {
  "kernelspec": {
   "display_name": "Python 3 (ipykernel)",
   "language": "python",
   "name": "python3"
  },
  "language_info": {
   "codemirror_mode": {
    "name": "ipython",
    "version": 3
   },
   "file_extension": ".py",
   "mimetype": "text/x-python",
   "name": "python",
   "nbconvert_exporter": "python",
   "pygments_lexer": "ipython3",
   "version": "3.8.10"
  }
 },
 "nbformat": 4,
 "nbformat_minor": 5
}
