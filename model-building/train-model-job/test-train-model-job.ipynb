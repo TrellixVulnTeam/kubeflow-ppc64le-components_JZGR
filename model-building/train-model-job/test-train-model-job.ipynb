{
 "cells": [
  {
   "cell_type": "markdown",
   "id": "changing-medication",
   "metadata": {},
   "source": [
    "# Component Test: Train with Model Job\n",
    "\n",
    "## Author\n",
    "- Sebastian Lehrig <sebastian.lehrig1@ibm.com>\n",
    "\n",
    "## License\n",
    "Apache-2.0 License"
   ]
  },
  {
   "cell_type": "markdown",
   "id": "automotive-think",
   "metadata": {},
   "source": [
    "## Imports & Constants"
   ]
  },
  {
   "cell_type": "code",
   "execution_count": 545,
   "id": "f8472735-d399-41fc-bdae-e9116de11b17",
   "metadata": {},
   "outputs": [],
   "source": [
    "import kfp\n",
    "import kfp.dsl as dsl"
   ]
  },
  {
   "cell_type": "code",
   "execution_count": 546,
   "id": "pacific-writing",
   "metadata": {},
   "outputs": [
    {
     "data": {
      "text/plain": [
       "'user-example-com'"
      ]
     },
     "execution_count": 546,
     "metadata": {},
     "output_type": "execute_result"
    }
   ],
   "source": [
    "BASE_IMAGE = \"quay.io/ibm/kubeflow-notebook-image-ppc64le:latest\"\n",
    "KFP_CLIENT = kfp.Client()\n",
    "\n",
    "with open(\"/var/run/secrets/kubernetes.io/serviceaccount/namespace\") as f:\n",
    "    NAMESPACE = f.read()\n",
    "NAMESPACE"
   ]
  },
  {
   "cell_type": "markdown",
   "id": "6d45803c-fe7d-4e03-9e96-138850458d35",
   "metadata": {},
   "source": [
    "## Specify training"
   ]
  },
  {
   "cell_type": "code",
   "execution_count": 547,
   "id": "ad1bfabd-1ee3-4340-897b-09a94efad660",
   "metadata": {},
   "outputs": [],
   "source": [
    "def train_model(text: str):\n",
    "    print(text)\n",
    "\n",
    "\n",
    "train_specification = kfp.components.func_to_component_text(\n",
    "  func=train_model\n",
    ")"
   ]
  },
  {
   "cell_type": "code",
   "execution_count": 542,
   "id": "840fecc8-afb1-46e6-ba35-547f0ede9d5d",
   "metadata": {
    "tags": []
   },
   "outputs": [],
   "source": [
    "train_comp = kfp.components.load_component_from_file(\n",
    "    \"component.yaml\"\n",
    ")"
   ]
  },
  {
   "cell_type": "markdown",
   "id": "nutritional-suicide",
   "metadata": {},
   "source": [
    "## Create pipeline"
   ]
  },
  {
   "cell_type": "code",
   "execution_count": 543,
   "id": "material-morning",
   "metadata": {},
   "outputs": [],
   "source": [
    "@dsl.pipeline(\n",
    "  name='Component Test - Train with Model Job',\n",
    "  description='A simple component test'\n",
    ")\n",
    "def train_pipeline():\n",
    "    train_parameters = {\n",
    "        \"text\": \"Hello training world!\"\n",
    "    }\n",
    "\n",
    "    train_comp(\n",
    "        dataset_directory=\"/tmp\",\n",
    "        train_specification=train_specification,\n",
    "        train_parameters=train_parameters\n",
    "    )"
   ]
  },
  {
   "cell_type": "markdown",
   "id": "e8a3bec0-144a-49d4-9c92-af5b84442231",
   "metadata": {},
   "source": [
    "## Run the pipeline within an experiment"
   ]
  },
  {
   "cell_type": "code",
   "execution_count": 544,
   "id": "8a2cf14a-9d24-4919-ab2c-f93f99b5340d",
   "metadata": {},
   "outputs": [
    {
     "data": {
      "text/html": [
       "<a href=\"/pipeline/#/experiments/details/ca9d4882-4304-416f-8736-3e53fb4babbc\" target=\"_blank\" >Experiment details</a>."
      ],
      "text/plain": [
       "<IPython.core.display.HTML object>"
      ]
     },
     "metadata": {},
     "output_type": "display_data"
    },
    {
     "data": {
      "text/html": [
       "<a href=\"/pipeline/#/runs/details/2bb0ffd8-1d48-4705-8e94-7eab3fc1c646\" target=\"_blank\" >Run details</a>."
      ],
      "text/plain": [
       "<IPython.core.display.HTML object>"
      ]
     },
     "metadata": {},
     "output_type": "display_data"
    },
    {
     "data": {
      "text/plain": [
       "RunPipelineResult(run_id=2bb0ffd8-1d48-4705-8e94-7eab3fc1c646)"
      ]
     },
     "execution_count": 544,
     "metadata": {},
     "output_type": "execute_result"
    }
   ],
   "source": [
    "KFP_CLIENT.create_run_from_pipeline_func(\n",
    "    train_pipeline,\n",
    "    arguments={},\n",
    "    namespace=NAMESPACE\n",
    ")"
   ]
  },
  {
   "cell_type": "code",
   "execution_count": null,
   "id": "357d9beb-ff80-4659-a378-b009dd05be1b",
   "metadata": {},
   "outputs": [],
   "source": []
  }
 ],
 "metadata": {
  "kernelspec": {
   "display_name": "Python 3 (ipykernel)",
   "language": "python",
   "name": "python3"
  },
  "language_info": {
   "codemirror_mode": {
    "name": "ipython",
    "version": 3
   },
   "file_extension": ".py",
   "mimetype": "text/x-python",
   "name": "python",
   "nbconvert_exporter": "python",
   "pygments_lexer": "ipython3",
   "version": "3.8.13"
  }
 },
 "nbformat": 4,
 "nbformat_minor": 5
}
